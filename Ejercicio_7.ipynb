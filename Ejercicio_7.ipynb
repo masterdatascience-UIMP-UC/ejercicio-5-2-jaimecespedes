{
 "cells": [
  {
   "cell_type": "raw",
   "metadata": {},
   "source": [
    "1.- Escribe una función de R que reciba como input un vector x con la variable dependiente, un vector de parámetros alpha que contenga los coeficientes de un polinomio y una sigma “sigma”; y que devuelva el vector dependiente que siga la ley polinomial dada con pdf gaussiana y sigma dada.  "
   ]
  },
  {
   "cell_type": "code",
   "execution_count": null,
   "metadata": {},
   "outputs": [],
   "source": []
  },
  {
   "cell_type": "raw",
   "metadata": {},
   "source": [
    "2.- Construye un vector de 40 elementos distribuido uniformemente entre [-3, 3]. Usalo con la función anterior y un polinomio con parámetros: 1 x3 + 2 x2 - x - 2 and sigma = 4. Pinta la función. "
   ]
  },
  {
   "cell_type": "code",
   "execution_count": null,
   "metadata": {},
   "outputs": [],
   "source": []
  },
  {
   "cell_type": "raw",
   "metadata": {},
   "source": [
    "3.- Calcula el valor mínimo de la función de loss para el caso en que hacemos un ajuste con una recta (dos parámetros), una parábola (tres parámetros), 4, 5, 6 y 7 parámetros, usando los primeros 20 puntos. Con los valores que hacen mínimo el Loss para la training sample, calcula el Loss para los siguientes 20 puntos. Pinta los resultados en función del número de parámetros para ambos casos."
   ]
  },
  {
   "cell_type": "code",
   "execution_count": null,
   "metadata": {},
   "outputs": [],
   "source": []
  },
  {
   "cell_type": "raw",
   "metadata": {},
   "source": [
    "4.- Escribe una función de R que encuentre el mínimo de la función de coste para el caso de “regularización”. El parámetro lambda será pasado como input. Utilízala para estimar las curvas que mejor ajustan para el caso de (4 parámetros, lambda = 0), (7 parámetros, lambda=0) y (7 parámetros, lambda=1000). Pinta todas las curvas juntas y escribe tus conclusiones. "
   ]
  },
  {
   "cell_type": "code",
   "execution_count": null,
   "metadata": {},
   "outputs": [],
   "source": []
  }
 ],
 "metadata": {
  "kernelspec": {
   "display_name": "R",
   "language": "R",
   "name": "ir"
  },
  "language_info": {
   "codemirror_mode": "r",
   "file_extension": ".r",
   "mimetype": "text/x-r-source",
   "name": "R",
   "pygments_lexer": "r",
   "version": "3.2.3"
  }
 },
 "nbformat": 4,
 "nbformat_minor": 2
}
